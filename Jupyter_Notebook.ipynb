{
 "cells": [
  {
   "cell_type": "markdown",
   "metadata": {},
   "source": [
    "<center>\n",
    "    <img src=\"https://cf-courses-data.s3.us.cloud-object-storage.appdomain.cloud/IBMDeveloperSkillsNetwork-DS0105EN-SkillsNetwork/labs/Module2/images/SN_web_lightmode.png\" width=\"300\" alt=\"cognitiveclass.ai logo\">\n",
    "</center>\n"
   ]
  },
  {
   "cell_type": "markdown",
   "metadata": {},
   "source": [
    "#### Add your code below following the instructions given in the course\n"
   ]
  },
  {
   "cell_type": "markdown",
   "metadata": {},
   "source": [
    "Project Final Jupyter Notebook"
   ]
  },
  {
   "cell_type": "markdown",
   "metadata": {},
   "source": [
    "this notebook is for the final project, it contains the necessary code to verify the skills learned during this module concerning the Tools for Data Science."
   ]
  },
  {
   "cell_type": "markdown",
   "metadata": {},
   "source": [
    "List data science languages : \n",
    "- Python\n",
    "- R\n",
    "- Sql\n",
    "- Scala \n",
    "- Java\n",
    "- C++\n",
    "\n",
    "other can use by data science community:\n",
    "- Javascript\n",
    "- Php\n",
    "- Go\n",
    "- Ruby\n",
    "- Visual basic"
   ]
  },
  {
   "cell_type": "markdown",
   "metadata": {},
   "source": [
    " List data science libraries :\n",
    "- Pandas\n",
    "- Numpy\n",
    "- Scipy\n",
    "- Matplotlib\n",
    "- Tensorflow\n",
    "- Pytorch\n",
    "- Keras\n",
    "- Scikit-learn\n",
    "- Natueal Language Toolkit (NLTK)\n",
    "- dplyr\n",
    "- ggplot\n",
    "- caret\n"
   ]
  },
  {
   "cell_type": "markdown",
   "metadata": {
    "tags": []
   },
   "source": [
    "| Tool            | Description                                                          |\n",
    "|-----------------|----------------------------------------------------------------------|\n",
    "| Python          | General-purpose programming language with extensive data libraries.   |\n",
    "| R               | Statistical programming language with rich data analysis capabilities.|\n",
    "| SQL             | Language for managing and querying relational databases.              |\n",
    "| Jupyter Notebook| Interactive web-based environment for data analysis and visualization.|\n",
    "| TensorFlow      | Open-source machine learning framework developed by Google.           |\n",
    "| PyTorch         | Deep learning framework developed by Facebook's AI Research lab.     |\n",
    "| scikit-learn    | Machine learning library for Python, providing various algorithms.    |\n",
    "| pandas          | Data manipulation and analysis library for Python.                    |\n",
    "| NumPy           | Fundamental package for scientific computing with Python.             |\n",
    "| Tableau         | Data visualization and business intelligence software.                |\n",
    "| Power BI        | Business analytics service by Microsoft for interactive dashboards.   |\n",
    "| Apache Spark    | Fast and distributed cluster computing system for big data processing.|\n",
    "| Hadoop          | Framework for distributed storage and processing of large datasets.   |\n",
    "| MATLAB          | Programming language and environment for numerical computing.         |\n",
    "| SAS             | Software suite for advanced analytics, business intelligence, and more.|\n"
   ]
  },
  {
   "cell_type": "markdown",
   "metadata": {},
   "source": [
    "## Introduction to Arithmetic Expressions\n",
    "\n",
    "Arithmetic expressions are fundamental mathematical expressions that involve numbers and basic arithmetic operations. They allow us to perform calculations and solve mathematical problems. In arithmetic expressions, we can combine numbers and operators to create mathematical statements.\n",
    "\n",
    "### Basic Arithmetic Operators\n",
    "\n",
    "Here are the basic arithmetic operators commonly used in arithmetic expressions:\n",
    "\n",
    "- Addition (+): Combines two numbers to find their sum.\n",
    "- Subtraction (-): Finds the difference between two numbers.\n",
    "- Multiplication (\\*): Multiplies two numbers to obtain the product.\n",
    "- Division (/): Divides one number by another to find the quotient."
   ]
  },
  {
   "cell_type": "code",
   "execution_count": 6,
   "metadata": {
    "tags": []
   },
   "outputs": [
    {
     "data": {
      "text/plain": [
       "12"
      ]
     },
     "execution_count": 6,
     "metadata": {},
     "output_type": "execute_result"
    }
   ],
   "source": [
    "#Multiplication\n",
    "6 * 2"
   ]
  },
  {
   "cell_type": "code",
   "execution_count": 5,
   "metadata": {
    "tags": []
   },
   "outputs": [
    {
     "data": {
      "text/plain": [
       "8"
      ]
     },
     "execution_count": 5,
     "metadata": {},
     "output_type": "execute_result"
    }
   ],
   "source": [
    "#Addition\n",
    "5 + 3"
   ]
  },
  {
   "cell_type": "code",
   "execution_count": 9,
   "metadata": {
    "tags": []
   },
   "outputs": [
    {
     "name": "stdout",
     "output_type": "stream",
     "text": [
      "200 minutes is equal to 3.3333333333333335 hours\n"
     ]
    }
   ],
   "source": [
    "# Convert minutes to hours\n",
    "minutes = 200\n",
    "hours = minutes / 60\n",
    "\n",
    "print(f\"{minutes} minutes is equal to {hours} hours\")"
   ]
  },
  {
   "cell_type": "markdown",
   "metadata": {
    "tags": []
   },
   "source": [
    "## Objectives\n",
    "\n",
    "The following objectives are aimed at providing a clear direction and goals for a particular task or project:\n",
    "- Describe the components of a Data Scientist's toolkit and list various tool categories\n",
    "- Identify the users and benefits of Python.\n",
    "    \n",
    "- Identify the users and uses of the R language.\n",
    "- Identify the criteria and roles for determining the language to learn.    \n",
    "- Define SQL elements and list their benefits.\n",
    "- List the global communities for connecting with other users.\n",
    "- List examples of the various libraries: scientific, visualization, machine learning, and deep learning.\n",
    "    \n",
    "- Define REST API to request and respond.\n",
    "    \n",
    "- Describe data sets and sources of data.\n",
    "    \n",
    "- Explore open data sets on the Data Asset eXchange.\n",
    "\n",
    "- List the tasks that a data scientist needs to perform to build a model.\n",
    "    \n",
    "- Explore ML models in the Model Learning eXchange."
   ]
  },
  {
   "cell_type": "markdown",
   "metadata": {},
   "source": [
    "## Author : Mamitiana\n",
    "This document was created by : Mamitiana"
   ]
  },
  {
   "cell_type": "code",
   "execution_count": null,
   "metadata": {},
   "outputs": [],
   "source": []
  }
 ],
 "metadata": {
  "kernelspec": {
   "display_name": "Python",
   "language": "python",
   "name": "conda-env-python-py"
  },
  "language_info": {
   "codemirror_mode": {
    "name": "ipython",
    "version": 3
   },
   "file_extension": ".py",
   "mimetype": "text/x-python",
   "name": "python",
   "nbconvert_exporter": "python",
   "pygments_lexer": "ipython3",
   "version": "3.7.12"
  }
 },
 "nbformat": 4,
 "nbformat_minor": 4
}
